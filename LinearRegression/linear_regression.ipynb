{
 "cells": [
  {
   "cell_type": "markdown",
   "id": "d68bd080",
   "metadata": {},
   "source": [
    "## Linear Regression\n",
    "### Name: Benj McMullin\n",
    "### Class: Math 403\n",
    "### Section: I don't know\n",
    "### Date: 11/28/2023"
   ]
  },
  {
   "cell_type": "code",
   "execution_count": 5,
   "id": "03f34593",
   "metadata": {},
   "outputs": [],
   "source": [
    "import numpy as np\n",
    "import pandas as pd\n",
    "import time\n",
    "import statsmodels.api as sm\n",
    "from sklearn import linear_model\n",
    "from itertools import combinations\n",
    "from matplotlib import pyplot as plt\n",
    "import scipy.linalg as la"
   ]
  },
  {
   "cell_type": "markdown",
   "id": "55a959b8",
   "metadata": {},
   "source": [
    "## Problem 1\n",
    "Write a function that takes as input $X$ and **y** as defined on page 1. Call this function **ols**. This function should return the least squares estimator for $\\beta$ as a numpy array."
   ]
  },
  {
   "cell_type": "code",
   "execution_count": 18,
   "id": "b9c9bd9e",
   "metadata": {},
   "outputs": [],
   "source": [
    "def ols(X, y):\n",
    "    \"\"\"\n",
    "    Solves for the least squares estimator.\n",
    "    Add a column of 1s to X.\n",
    "    Parameters:\n",
    "        X: n x d numpyarray\n",
    "        y: n x 1 numpyarray\n",
    "    Returns:\n",
    "        beta: d x 1 numpyarray\n",
    "    \"\"\"\n",
    "    # Add column of ones on the left\n",
    "    if len(X.shape) == 1:\n",
    "        n, d = X.shape[0], 1\n",
    "    else: n, d = X.shape\n",
    "    \n",
    "    \n",
    "    # Add column of ones on the left\n",
    "    X_new = np.hstack((np.ones(n).reshape(-1, 1), X.reshape(n, d)))\n",
    "    \n",
    "    # Solve for beta\n",
    "    B = (np.linalg.inv(X_new.T @ X_new)) @ X_new.T @ y\n",
    "    return B"
   ]
  },
  {
   "cell_type": "markdown",
   "id": "de74d716",
   "metadata": {},
   "source": [
    "## Problem 2\n",
    "Find the least squares estimator for $\\beta$ using this random data. \n",
    "Produce a plot showing the random data and the line of best fit determined by the least squares estimator for $\\beta$. \n",
    "Your plot should include a title, axis labels, and a legend. "
   ]
  },
  {
   "cell_type": "code",
   "execution_count": 19,
   "id": "5f6f6271",
   "metadata": {},
   "outputs": [],
   "source": [
    "# Generate data\n",
    "\n",
    "# Number of data points\n",
    "n = 100 \n",
    "\n",
    "# X values\n",
    "X = np.arange(100) \n",
    "\n",
    "# Add random noise\n",
    "noise = np.random.uniform(-10, 10, size=(100,)) \n",
    "\n",
    "# True relationship\n",
    "y = .3 * X + 3 + noise\n",
    "\n",
    "# Find the least squares estimator\n",
    "B = ols(X, y)"
   ]
  },
  {
   "cell_type": "code",
   "execution_count": 20,
   "metadata": {},
   "outputs": [
    {
     "data": {
      "image/png": "[encoded data removed]",
      "text/plain": [
       "<Figure size 640x480 with 1 Axes>"
      ]
     },
     "metadata": {},
     "output_type": "display_data"
    }
   ],
   "source": [
    "# Plot the data and the best fit line\n",
    "plt.scatter(X, y, label = 'Data')\n",
    "plt.plot(X, B[1] * X + B[0], color = 'tab:orange', label = 'Best Fit')\n",
    "plt.xlabel('X')\n",
    "plt.ylabel('Y')\n",
    "plt.title('Line of Best Fit')\n",
    "plt.legend()\n",
    "plt.show()"
   ]
  },
  {
   "cell_type": "markdown",
   "id": "60182d75",
   "metadata": {},
   "source": [
    "## Problem 3\n",
    "Write a function that finds the least squares estimator for rank-deficient models using the SVD. \n",
    "The function should still take $X$ and **y** as inputs. Call the function **svd_ols** and return the least squares estimator for $\\beta$ as a numpy array."
   ]
  },
  {
   "cell_type": "code",
   "execution_count": 21,
   "id": "521a5178",
   "metadata": {},
   "outputs": [],
   "source": [
    "def svd_ols(X, y):\n",
    "    \"\"\"\n",
    "    Solves for the least squares estimator using the SVD.\n",
    "    Add a column of 1s to X.\n",
    "    Parameters:\n",
    "        X: n x d numpyarray\n",
    "        y: n x 1 numpyarray\n",
    "    Returns:\n",
    "        beta: d x 1 numpy array\n",
    "    \"\"\"\n",
    "    # Add column of ones on the left\n",
    "    if len(X.shape) == 1:\n",
    "        n, d = X.shape[0], 1\n",
    "    else: n, d = X.shape\n",
    "    \n",
    "    # Add column of ones on the left\n",
    "    X_new = np.hstack((np.ones(n).reshape(n, -1), X.reshape(n, d)))\n",
    "    \n",
    "    # SVD\n",
    "    U, E, V = la.svd(X_new, full_matrices = False)\n",
    "    \n",
    "    # Solve for beta\n",
    "    B = V.T @ np.diag(1 / E) @ U.T @ y\n",
    "    return B"
   ]
  },
  {
   "cell_type": "markdown",
   "id": "1ed14166",
   "metadata": {},
   "source": [
    "## Problem 4\n",
    "Use your function **svd_ols** to find the least squares estimator for a cubic polynomial. \n",
    "Create a plot that shows a scatter plot of the data and a curve using the least squares estimator. \n",
    "Your plot should include a title, axis labels, and a legend."
   ]
  },
  {
   "cell_type": "code",
   "execution_count": 22,
   "id": "64506569",
   "metadata": {},
   "outputs": [],
   "source": [
    "# Generate data\n",
    "x = np.linspace(-4, 2, 500)\n",
    "y = x ** 3 + 3 * x ** 2 - x - 3.5\n",
    "\n",
    "# Creat random noise\n",
    "noise = np.random.normal(0, 3, len(y)) \n",
    "# Add noise\n",
    "y += noise \n",
    "\n",
    "# Use vandermonde matrix to fit a cubic polynomial\n",
    "X = np.vander(x, 4, increasing = True)\n",
    "# Find the least squares estimator\n",
    "B = svd_ols(X[:, 1:], y)"
   ]
  },
  {
   "cell_type": "code",
   "execution_count": 23,
   "metadata": {},
   "outputs": [
    {
     "data": {
      "image/png": "[encoded data removed]",
      "text/plain": [
       "<Figure size 640x480 with 1 Axes>"
      ]
     },
     "metadata": {},
     "output_type": "display_data"
    }
   ],
   "source": [
    "# Plot the data and the best fit curve\n",
    "plt.scatter(x, y, s = 0.5, label = 'Data')\n",
    "plt.plot(x, X @ B, color = 'tab:orange', label = 'Best Fit')\n",
    "plt.xlabel('X')\n",
    "plt.ylabel('Y')\n",
    "plt.title('Curve of Best Fit')\n",
    "plt.legend()\n",
    "plt.show()"
   ]
  },
  {
   "cell_type": "markdown",
   "id": "c863089a",
   "metadata": {},
   "source": [
    "## Problem 5\n",
    "The file **realestate.csv** contains transaction data from 2012-2013. \n",
    "It has columns for transaction data, house age, distance to nearest MRT station, number of convenience stores, latitude, longitude, and house price of unit area.\n",
    "Each row in the array is a separate measurement.\n",
    "\n",
    "Find the combination of variables that builds the model with the best $R^2$ value when predicting **house price of unit area**. Use statsmodels to build each model and calculate $R^2$. Use **statsmodels** to build each model and calculate $R^2$. Using the same combination of variables, time the methods **ols**, **svd_ols**, and **statsmodels** . Return a list with the first element being a tuple of times for each method and the second element being the best $R^2$ value from the first part of the problem."
   ]
  },
  {
   "cell_type": "code",
   "execution_count": 46,
   "id": "e6214ba3",
   "metadata": {},
   "outputs": [],
   "source": [
    "def problem5():\n",
    "    \"\"\"\n",
    "    Find the best R2 value using statsmodels.\n",
    "    Then time ols, svd_ols, and statsmodlels.\n",
    "    Returns:\n",
    "        list(): a tuple of times and the best R2 value\n",
    "    \"\"\"\n",
    "    # Read in data\n",
    "    real_estate = pd.read_csv('realestate.csv', index_col = 0)\n",
    "    y = real_estate['Y house price of unit area']\n",
    "    \n",
    "    # init lists to record r2 values and combos\n",
    "    R_squared = []\n",
    "    both = []\n",
    "    # init lists to record times\n",
    "    OLS_times = []\n",
    "    SVD_times = []\n",
    "    STATS_times = []\n",
    "    \n",
    "    # loop through all possible combinations of columns\n",
    "    for n in range(1, 7):\n",
    "        for combo in combinations(real_estate.columns[:-1], n):\n",
    "            # create x and add constant\n",
    "            x = real_estate[[col for col in combo]]\n",
    "            X = sm.add_constant(x)\n",
    "            \n",
    "            # time ols\n",
    "            start = time.time()\n",
    "            ols(x.values, y.values)\n",
    "            OLS_times.append(time.time() - start)\n",
    "            \n",
    "            # time svd\n",
    "            start = time.time()\n",
    "            svd_ols(x.values, y.values)\n",
    "            SVD_times.append(time.time() - start)\n",
    "            \n",
    "            # time statsmodels\n",
    "            start = time.time()\n",
    "            model = sm.OLS(y, X).fit()\n",
    "            STATS_times.append(time.time() - start)\n",
    "            \n",
    "            # record r2 and combo\n",
    "            R_squared.append(model.rsquared)\n",
    "            both.append(combo)\n",
    "            \n",
    "    # find best r2 and corresponding combo\n",
    "    bestind = np.argmax(R_squared)\n",
    "    best_combo = both[bestind]\n",
    "    \n",
    "    return [(OLS_times[bestind], SVD_times[bestind], STATS_times[bestind]), max(R_squared)]"
   ]
  },
  {
   "cell_type": "code",
   "execution_count": 47,
   "metadata": {},
   "outputs": [
    {
     "data": {
      "text/plain": [
       "[(0.0009984970092773438, 0.0, 0.0010018348693847656), 0.582370447272308]"
      ]
     },
     "execution_count": 47,
     "metadata": {},
     "output_type": "execute_result"
    }
   ],
   "source": [
    "problem5()"
   ]
  },
  {
   "cell_type": "markdown",
   "id": "d3ff1a9b",
   "metadata": {},
   "source": [
    "## Problem 6\n",
    "Use the file **realestate.csv** and the Python Example on page 4 as a template for constructing **y** and $X$ and calculating model AIC and BIC. \n",
    "For the dependent variable, use **house price of unit area**. \n",
    "For the independent variables, use **distance to the nearest MRT station**, **number of convenience stores**, **latitude**, and **longitude**.\n",
    "\n",
    "Find the model that has the lowest AIC and the model that has the lowest BIC. Are they the same model? Print the features of the model with the lowest AIC as a list."
   ]
  },
  {
   "cell_type": "code",
   "execution_count": 26,
   "id": "00fd80df",
   "metadata": {},
   "outputs": [],
   "source": [
    "# Read in data and set up X and y\n",
    "real_estate = pd.read_csv('realestate.csv', index_col = 0)\n",
    "y = real_estate['Y house price of unit area']\n",
    "\n",
    "# Initialize variables for best AIC, BIC, and combo of both\n",
    "AIC = []\n",
    "BIC = []\n",
    "both = []\n",
    "\n",
    "# Loop through all combinations of 1-4 variables \n",
    "for n in range(1, 5):\n",
    "    for combo in combinations(real_estate.columns[2:6], n):\n",
    "        # Make X and add constant\n",
    "        x = real_estate[[col for col in combo]]\n",
    "        X = sm.add_constant(x)\n",
    "        \n",
    "        # Fit model and append AIC, BIC, and combo\n",
    "        model = sm.OLS(y, X).fit() \n",
    "        AIC.append(model.aic)\n",
    "        BIC.append(model.bic)\n",
    "        both.append(combo)"
   ]
  },
  {
   "cell_type": "code",
   "execution_count": 30,
   "metadata": {},
   "outputs": [
    {
     "name": "stdout",
     "output_type": "stream",
     "text": [
      "Best AIC is, 3038.536259321833 with combo ('X3 distance to the nearest MRT station', 'X4 number of convenience stores', 'X5 latitude')\n",
      "Best BIC is 3054.639723217134 with combo ('X3 distance to the nearest MRT station', 'X4 number of convenience stores', 'X5 latitude')\n",
      "Best combo of both is\n",
      " ('X3 distance to the nearest MRT station', 'X4 number of convenience stores', 'X5 latitude') \n",
      "which is the same as the best BIC and AIC\n"
     ]
    }
   ],
   "source": [
    "#find indices of best aic and bic\n",
    "AIC_index = np.argmin(AIC)\n",
    "BIC_index = np.argmin(BIC)\n",
    "print('Best AIC is,', min(AIC),'with combo', both[AIC_index])\n",
    "print('Best BIC is',min(BIC),'with combo', both[BIC_index])\n",
    "print(f'Best combo of both is\\n', both[np.argmin(np.array(AIC) + np.array(BIC))], '\\nwhich is the same as the best BIC and AIC')"
   ]
  },
  {
   "cell_type": "markdown",
   "id": "fa519708",
   "metadata": {},
   "source": [
    "## Problem 7\n",
    "Use Ridge and Lasso Regression to model **house price of unit area** from the file **realestate.csv**.\n",
    "Before fitting each model, run a GridSearch on $\\alpha$ to find the optimal value.\n",
    "Then use the optimal $\\alpha$ to fit the model.\n",
    "Once you have fit the model, you can use the **score** method to get $R^2$. \n",
    "Print $R^2$ for each model as a tuple. "
   ]
  },
  {
   "cell_type": "code",
   "execution_count": 25,
   "id": "41fb5f95",
   "metadata": {},
   "outputs": [
    {
     "name": "stdout",
     "output_type": "stream",
     "text": [
      "Best Ridge Alpha: 0.001\n",
      "Ridge Score: 0.5823545728167563 \n",
      "\n",
      "Best Lasso Alpha: 0.001\n",
      "Lasso Score: 0.5822617746793002\n"
     ]
    }
   ],
   "source": [
    "# Read in data\n",
    "real_estate = pd.read_csv('realestate.csv', index_col = 0)\n",
    "\n",
    "# Split into X and y\n",
    "y = real_estate['Y house price of unit area']\n",
    "X = real_estate[real_estate.columns[:-1]]\n",
    "\n",
    "# Fit and score OLS, print results\n",
    "# Range for grid search\n",
    "regression = linear_model.RidgeCV(alphas = np.logspace(-6, 6, 13)) \n",
    "\n",
    "# Fit the model\n",
    "regression.fit(X, y) \n",
    "\n",
    "# Best parameter value\n",
    "print('Best Ridge Alpha:', regression.alpha_) \n",
    "print('Ridge Score:', regression.score(X, y), '\\n')\n",
    "\n",
    "# Fit and score Lasso, print results\n",
    "# Range for grid search\n",
    "lasso = linear_model.LassoCV(alphas = np.logspace(-6, 6, 13)) \n",
    "\n",
    "# Fit the model\n",
    "lasso.fit(X, y)\n",
    "\n",
    "# Best parameter value\n",
    "print('Best Lasso Alpha:', lasso.alpha_) \n",
    "print('Lasso Score:', lasso.score(X, y))"
   ]
  },
  {
   "cell_type": "code",
   "execution_count": null,
   "metadata": {},
   "outputs": [],
   "source": []
  }
 ],
 "metadata": {
  "kernelspec": {
   "display_name": "Python 3",
   "language": "python",
   "name": "python3"
  },
  "language_info": {
   "codemirror_mode": {
    "name": "ipython",
    "version": 3
   },
   "file_extension": ".py",
   "mimetype": "text/x-python",
   "name": "python",
   "nbconvert_exporter": "python",
   "pygments_lexer": "ipython3",
   "version": "3.10.8"
  }
 },
 "nbformat": 4,
 "nbformat_minor": 5
}
