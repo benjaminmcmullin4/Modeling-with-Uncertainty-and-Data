{
 "cells": [
  {
   "cell_type": "markdown",
   "metadata": {},
   "source": [
    "# Speech Recognition using CDHMMs"
   ]
  },
  {
   "cell_type": "code",
   "execution_count": 20,
   "metadata": {},
   "outputs": [],
   "source": [
    "import os\n",
    "import MFCC\n",
    "import re\n",
    "import random\n",
    "import scipy as sp\n",
    "import numpy as np\n",
    "import pandas as pd\n",
    "from hmmlearn import hmm\n",
    "from scipy.io import wavfile\n",
    "from scipy.special import logsumexp\n",
    "from matplotlib import pyplot as plt\n",
    "from sklearn.decomposition import PCA\n",
    "from sklearn.model_selection import train_test_split\n",
    "import pickle"
   ]
  },
  {
   "cell_type": "markdown",
   "metadata": {},
   "source": [
    "## Problem 1\n",
    "\n",
    "Write a function `sample_gmmhmm` which accepts an integer $T$, and draws $T$ samples from the GMMHMM given in the lab pdf.\n",
    "\n",
    "Use your function to draw $T=900$ samples from the GMMHMM.\n",
    "Use `sklearn.decomposition.PCA` with 2 components to plot the observations in two-dimensional space. \n",
    "Color the observations by state.\n",
    "How many distinct clusters do you see?\n",
    "\n",
    "Hint: the function `np.random.choice` will be useful for drawing the hidden states and the GMM components, and `np.random.multivariate_normal` for the observation sequence. \n",
    "When plotting the samples, using the keyword argument `c` in `plt.scatter` allows you to specify the colors of the individual points."
   ]
  },
  {
   "cell_type": "code",
   "execution_count": 21,
   "metadata": {},
   "outputs": [],
   "source": [
    "def sample_gmmhmm(T):\n",
    "    \"\"\"\n",
    "    Simulate from the GMMHMM given in the problem, returning T samples.\n",
    "    \n",
    "    Returns\n",
    "    -------\n",
    "    states : ndarray of shape (n_sim,)\n",
    "        The sequence of states\n",
    "    obs : ndarray of shape (n_sim, M)\n",
    "        The generated observations (vectors of length M)\n",
    "    \"\"\"\n",
    "    N = 3\n",
    "    K = 5\n",
    "    M = 4\n",
    "    \n",
    "    ## Define the GMMHMM parameters\n",
    "    # NxN transition matrix \n",
    "    A = np.array([[.3, .3, .4], [.2, .3, .5], [.3, .2, .5]])\n",
    "    # NxK collection of component weights\n",
    "    weights = np.array([[.3, .2, .1, .2, .2], [.1, .3, .3, .2, .1], \n",
    "                        [.1, .3, .2, .1, .3]])\n",
    "    # NxKxM collection of component means\n",
    "    means = np.array([np.floor(np.random.uniform(-100, 100, size = (5, 4))) \n",
    "                            for i in range(3)])\n",
    "    # NxKx(MxM) collection of component covariance matrices       \n",
    "    covars = np.array([[np.floor(np.random.uniform(1, 20))*np.eye(4) \n",
    "                            for i in range(5)] for j in range(3)])\n",
    "    # (N,) ndarray initial state distribution \n",
    "    pi = np.array([.15, .15, .7])\n",
    "    \n",
    "    raise NotImplementedError(\"Problem 1 incomplete\")"
   ]
  },
  {
   "cell_type": "code",
   "execution_count": 22,
   "metadata": {},
   "outputs": [],
   "source": [
    "def sample_gmmhmm(T):\n",
    "    \"\"\"\n",
    "    Simulate from the GMMHMM given in the problem, returning T samples.\n",
    "    \n",
    "    Returns\n",
    "    -------\n",
    "    states : ndarray of shape (n_sim,)\n",
    "        The sequence of states\n",
    "    obs : ndarray of shape (n_sim, M)\n",
    "        The generated observations (vectors of length M)\n",
    "    \"\"\"\n",
    "    # Define the dimensions of the GMMHMM\n",
    "    N = 3  # Number of states\n",
    "    K = 5  # Number of mixture components\n",
    "    M = 4  # Dimensionality of the observation space\n",
    "\n",
    "    # Define the GMMHMM parameters\n",
    "    # Transition matrix: NxN\n",
    "    A = np.array([[.3, .3, .4], [.2, .3, .5], [.3, .2, .5]])\n",
    "\n",
    "    # Collection of component weights: NxK\n",
    "    weights = np.array([[.3, .2, .1, .2, .2], [.1, .3, .3, .2, .1], \n",
    "                        [.1, .3, .2, .1, .3]])\n",
    "\n",
    "    # Collection of component means: NxKxM\n",
    "    means = np.array([np.floor(np.random.uniform(-100, 100, size=(5, 4))) \n",
    "                    for i in range(3)])\n",
    "\n",
    "    # Collection of component covariance matrices: NxKx(MxM)\n",
    "    covars = np.array([[np.floor(np.random.uniform(1, 20)) * np.eye(4) \n",
    "                        for i in range(5)] for j in range(3)])\n",
    "\n",
    "    # Initial state distribution: (N,)\n",
    "    pi = np.array([.15, .15, .7])\n",
    "\n",
    "    # Lists to store states and observations\n",
    "    states = []\n",
    "    obs = []\n",
    "\n",
    "    # Initialize the first state from the initial distribution pi\n",
    "    state = np.argmax(np.random.multinomial(1, pi))\n",
    "\n",
    "    # Iterate through the number of samples\n",
    "    for i in range(T):\n",
    "        states.append(state)\n",
    "\n",
    "        # Sample a mixture component based on the weights of the current state\n",
    "        sample_component = np.argmax(np.random.multinomial(1, weights[state, :]))\n",
    "        \n",
    "        # Sample an observation from the selected mixture component\n",
    "        sample = np.random.multivariate_normal(means[state, sample_component, :], \n",
    "                                            covars[state, sample_component, :, :])\n",
    "        \n",
    "        obs.append(sample)\n",
    "\n",
    "        # Transition to the next state based on the transition matrix A\n",
    "        state = np.argmax(np.random.multinomial(1, A[:, state]))\n",
    "\n",
    "    # Perform PCA to reduce the dimensionality of the observations to 2\n",
    "    pca = PCA(n_components=2)\n",
    "    pca.fit(obs)\n",
    "    obs = pca.transform(obs)\n",
    "\n",
    "    # Plot the observations colored by their corresponding states\n",
    "    plt.scatter(obs[:, 0], obs[:, 1], c=states)\n",
    "    plt.show()\n"
   ]
  },
  {
   "cell_type": "code",
   "execution_count": 23,
   "metadata": {},
   "outputs": [
    {
     "data": {
      "image/png": "[encoded data removed]",
      "text/plain": [
       "<Figure size 640x480 with 1 Axes>"
      ]
     },
     "metadata": {},
     "output_type": "display_data"
    }
   ],
   "source": [
    "sample_gmmhmm(900)"
   ]
  },
  {
   "cell_type": "markdown",
   "metadata": {},
   "source": [
    "## Problem 2\n",
    "\n",
    "In the remainder of this lab, we will create a speech recognition system for the vocabulary of the following five words/phrases: \"biology\", \"mathematics\", \"political science\", \"psychology\", and \"statistics\".\n",
    "\n",
    "The `Samples` folder contains 30 recordings for each of the words/phrases in the vocabulary.\n",
    "These audio samples are 2 seconds in duration, recorded at a rate of 44100 samples per second, with samples stored as 16-bit signed integers in WAV format. \n",
    "For each of the words, create a list holding the MFCC coefficients of the recordings of that word.\n",
    "\n",
    "The function `scipy.io.wavfile.read` can be used to load the sound files, and the function `extract` in `MFCC.py` implements the MFCC coefficient algorithm."
   ]
  },
  {
   "cell_type": "code",
   "execution_count": 24,
   "metadata": {},
   "outputs": [
    {
     "name": "stderr",
     "output_type": "stream",
     "text": [
      "C:\\Users\\benja\\AppData\\Local\\Temp\\ipykernel_3452\\1075799294.py:13: WavFileWarning: Chunk (non-data) not understood, skipping it.\n",
      "  sample_rate, data= wavfile.read(os.path.join(wav_dir, audiofile))\n"
     ]
    }
   ],
   "source": [
    "# Define the categories and lists to store the data\n",
    "bio = []\n",
    "math = []\n",
    "poli_sci = []\n",
    "psych = []\n",
    "stats = []\n",
    "\n",
    "# Load the data from the samples directory and extract the MFCC features\n",
    "wav_dir = os.path.join(os.getcwd(),'Samples')\n",
    "for audiofile in os.listdir(wav_dir):\n",
    "    \n",
    "    # Load the data and extract the MFCC features\n",
    "    sample_rate, data= wavfile.read(os.path.join(wav_dir, audiofile))\n",
    "    extracted_data = MFCC.extract(data)\n",
    "    \n",
    "    # Append the extracted data to the corresponding category list\n",
    "    for audio_list, category in zip([bio, math, poli_sci, psych, stats],\n",
    "                        ['Biology', 'Math', 'Poli', 'Psych', 'Stat']):\n",
    "        \n",
    "        # Check if the category is in the audio file name\n",
    "        if category in audiofile:\n",
    "            audio_list.append(extracted_data)"
   ]
  },
  {
   "cell_type": "code",
   "execution_count": 25,
   "metadata": {},
   "outputs": [
    {
     "name": "stdout",
     "output_type": "stream",
     "text": [
      "30 30 30 30 30\n"
     ]
    }
   ],
   "source": [
    "print(len(bio), len(math), len(poli_sci), len(psych), len(stats))"
   ]
  },
  {
   "cell_type": "markdown",
   "metadata": {},
   "source": [
    "## Problem 3\n",
    "\n",
    "For each word, randomly split the list of MFCCs into a training set of 20 samples and a test set of the remaining 10 samples.\n",
    "\n",
    "Use the training sets to train GMMHMMs on each word in the vocabulary.\n",
    "For each word in the vocabulary, train 10 GMMHMMs on the training set, using `n_components=5`.\n",
    "Keep the model with the highest log-likelihood for each word."
   ]
  },
  {
   "cell_type": "code",
   "execution_count": 26,
   "metadata": {},
   "outputs": [],
   "source": [
    "# Split the data into training and testing sets\n",
    "train_size = 20\n",
    "test_size = 10\n",
    "biology_train, biology_test = train_test_split(bio, test_size=test_size, train_size=train_size)\n",
    "math_train, math_test = train_test_split(math, test_size=test_size, train_size=train_size)\n",
    "political_science_train, political_science_test = train_test_split(poli_sci, test_size=test_size, train_size=train_size)\n",
    "psychology_train, psychology_test = train_test_split(psych, test_size=test_size, train_size=train_size)\n",
    "statistics_train, statistics_test = train_test_split(stats, test_size=test_size, train_size=train_size)\n",
    "\n",
    "# Store the best models for each category\n",
    "best_models = {'Biology':None,\n",
    "                'Math':None,\n",
    "                'Poli':None,\n",
    "                'Psych':None,\n",
    "                'Stat':None}\n",
    "\n",
    "# Train the models for each category\n",
    "for data, label in zip([biology_train, math_train, political_science_train, psychology_train, statistics_train],\n",
    "                       ['Biology', 'Math', 'Poli', 'Psych', 'Stat']):\n",
    "    logprob = -np.inf\n",
    "    \n",
    "    # Train the model 10 times and store the best one based on the logprob\n",
    "    for _ in range(10):\n",
    "        model = hmm.GMMHMM(n_components=5, covariance_type=\"diag\", init_params=\"mc\") \n",
    "        model.fit(np.vstack(data))\n",
    "\n",
    "        # Store the best model and reset the logprob if a better model is found \n",
    "        if model.monitor_.history[-1] > logprob:\n",
    "            logprob = model.monitor_.history[-1]\n",
    "            best_model = model\n",
    "\n",
    "    # Store the best model for the category\n",
    "    best_models[label] = best_model\n"
   ]
  },
  {
   "cell_type": "markdown",
   "metadata": {},
   "source": [
    "## Problem 4\n",
    "\n",
    "Write a `predict` function for your speech recognition model.\n",
    "In this function:\n",
    " - Accept the MFCC coefficients of the speech sample to be predicted.\n",
    " - Find the log probability density of the coefficients for each word's GMMHMM.\n",
    " - Return the word with the highest probability as the speech recognition model's prediction."
   ]
  },
  {
   "cell_type": "code",
   "execution_count": 27,
   "metadata": {},
   "outputs": [],
   "source": [
    "def predict(model, data):\n",
    "    \"\"\"\n",
    "    Predict the label of the given data using the given model.\n",
    "    \"\"\"\n",
    "\n",
    "    # Get the score of the data given the model\n",
    "    words = list(best_models.keys())\n",
    "\n",
    "    # Get the score of the data given the model\n",
    "    scores=[]\n",
    "    for _, model in best_models.items():\n",
    "        scores.append(model.score(data))\n",
    "\n",
    "    # Return the word with the highest score\n",
    "    return words[np.argmax(scores)]"
   ]
  },
  {
   "cell_type": "markdown",
   "metadata": {},
   "source": [
    "## Problem 5\n",
    "\n",
    "For each of the five test sets, call your `predict` function on each sample, and find the proportion of each test set that your model predicts correctly.\n",
    "Display your results.\n",
    "How well does your model perform on this dataset?"
   ]
  },
  {
   "cell_type": "code",
   "execution_count": 28,
   "metadata": {},
   "outputs": [
    {
     "name": "stdout",
     "output_type": "stream",
     "text": [
      "Biology Accuracy: 1.0\n",
      "Math Accuracy: 1.0\n",
      "Poli Accuracy: 1.0\n",
      "Psych Accuracy: 0.9\n",
      "Stat Accuracy: 1.0\n"
     ]
    }
   ],
   "source": [
    "results = pd.DataFrame(columns=['Category', 'Prediction'])\n",
    "\n",
    "# For each test set\n",
    "for data, label in zip([biology_test, math_test, political_science_test, psychology_test, statistics_test],\n",
    "                       ['Biology', 'Math', 'Poli', 'Psych', 'Stat']):\n",
    "    # For each data point\n",
    "    for i, d in enumerate(data):\n",
    "        # Predict the label using the predict function\n",
    "        pred = predict(best_models, d)\n",
    "        \n",
    "        # Concatenate the results\n",
    "        results = pd.concat([results, pd.DataFrame(columns=['Category', 'Prediction'], \n",
    "                                                   data=[[label, pred]])])\n",
    "    \n",
    "# For each category, print the accuracy\n",
    "for category in ['Biology', 'Math', 'Poli', 'Psych', 'Stat']:\n",
    "    print(category, 'Accuracy:', np.mean(results[results['Category'] == category]['Category'] == \n",
    "                                          results[results['Category'] == category]['Prediction']))"
   ]
  },
  {
   "cell_type": "markdown",
   "metadata": {},
   "source": [
    "The model performs well on all categories! I ran it a few times and occasionaly one will be less accurate but they tend to have a high average accuracy."
   ]
  },
  {
   "cell_type": "markdown",
   "metadata": {},
   "source": []
  }
 ],
 "metadata": {
  "kernelspec": {
   "display_name": "Python 3 (ipykernel)",
   "language": "python",
   "name": "python3"
  },
  "language_info": {
   "codemirror_mode": {
    "name": "ipython",
    "version": 3
   },
   "file_extension": ".py",
   "mimetype": "text/x-python",
   "name": "python",
   "nbconvert_exporter": "python",
   "pygments_lexer": "ipython3",
   "version": "3.10.8"
  }
 },
 "nbformat": 4,
 "nbformat_minor": 4
}
