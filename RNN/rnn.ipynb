{
  "cells": [
    {
      "cell_type": "markdown",
      "metadata": {
        "id": "lfUNsen_ns-I"
      },
      "source": [
        "# Volume 3: Recurrent Neural Networks    \n",
        "    Benj McMullin\n",
        "    Math 405\n",
        "    4/9/2024"
      ]
    },
    {
      "cell_type": "code",
      "execution_count": 2,
      "metadata": {
        "colab": {
          "base_uri": "https://localhost:8080/"
        },
        "id": "_HaCF0y2YpwU",
        "outputId": "7759a7b0-2dfd-4e65-cb0c-6fb015079a10"
      },
      "outputs": [
        {
          "output_type": "stream",
          "name": "stdout",
          "text": [
            "Requirement already satisfied: music21 in /usr/local/lib/python3.10/dist-packages (9.1.0)\n",
            "Requirement already satisfied: chardet in /usr/local/lib/python3.10/dist-packages (from music21) (5.2.0)\n",
            "Requirement already satisfied: joblib in /usr/local/lib/python3.10/dist-packages (from music21) (1.3.2)\n",
            "Requirement already satisfied: jsonpickle in /usr/local/lib/python3.10/dist-packages (from music21) (3.0.3)\n",
            "Requirement already satisfied: matplotlib in /usr/local/lib/python3.10/dist-packages (from music21) (3.7.1)\n",
            "Requirement already satisfied: more-itertools in /usr/local/lib/python3.10/dist-packages (from music21) (10.1.0)\n",
            "Requirement already satisfied: numpy in /usr/local/lib/python3.10/dist-packages (from music21) (1.25.2)\n",
            "Requirement already satisfied: requests in /usr/local/lib/python3.10/dist-packages (from music21) (2.31.0)\n",
            "Requirement already satisfied: webcolors>=1.5 in /usr/local/lib/python3.10/dist-packages (from music21) (1.13)\n",
            "Requirement already satisfied: contourpy>=1.0.1 in /usr/local/lib/python3.10/dist-packages (from matplotlib->music21) (1.2.1)\n",
            "Requirement already satisfied: cycler>=0.10 in /usr/local/lib/python3.10/dist-packages (from matplotlib->music21) (0.12.1)\n",
            "Requirement already satisfied: fonttools>=4.22.0 in /usr/local/lib/python3.10/dist-packages (from matplotlib->music21) (4.50.0)\n",
            "Requirement already satisfied: kiwisolver>=1.0.1 in /usr/local/lib/python3.10/dist-packages (from matplotlib->music21) (1.4.5)\n",
            "Requirement already satisfied: packaging>=20.0 in /usr/local/lib/python3.10/dist-packages (from matplotlib->music21) (24.0)\n",
            "Requirement already satisfied: pillow>=6.2.0 in /usr/local/lib/python3.10/dist-packages (from matplotlib->music21) (9.4.0)\n",
            "Requirement already satisfied: pyparsing>=2.3.1 in /usr/local/lib/python3.10/dist-packages (from matplotlib->music21) (3.1.2)\n",
            "Requirement already satisfied: python-dateutil>=2.7 in /usr/local/lib/python3.10/dist-packages (from matplotlib->music21) (2.8.2)\n",
            "Requirement already satisfied: charset-normalizer<4,>=2 in /usr/local/lib/python3.10/dist-packages (from requests->music21) (3.3.2)\n",
            "Requirement already satisfied: idna<4,>=2.5 in /usr/local/lib/python3.10/dist-packages (from requests->music21) (3.6)\n",
            "Requirement already satisfied: urllib3<3,>=1.21.1 in /usr/local/lib/python3.10/dist-packages (from requests->music21) (2.0.7)\n",
            "Requirement already satisfied: certifi>=2017.4.17 in /usr/local/lib/python3.10/dist-packages (from requests->music21) (2024.2.2)\n",
            "Requirement already satisfied: six>=1.5 in /usr/local/lib/python3.10/dist-packages (from python-dateutil>=2.7->matplotlib->music21) (1.16.0)\n"
          ]
        }
      ],
      "source": [
        "!pip install --upgrade music21"
      ]
    },
    {
      "cell_type": "code",
      "source": [
        "from music21 import converter, instrument, note, chord, stream, midi\n",
        "from google.colab import files\n",
        "import glob\n",
        "import os\n",
        "import gzip\n",
        "import tarfile\n",
        "from torchvision import datasets\n",
        "import numpy as np\n",
        "import torch\n",
        "import torch.nn as nn\n",
        "import torch.optim as optim\n",
        "from torch.utils.data import DataLoader, random_split\n",
        "import matplotlib.pyplot as plt\n",
        "from tqdm import tqdm\n",
        "\n",
        "assert torch.cuda.is_available()\n",
        "\n",
        "device = torch.device(\"cuda:0\" if torch.cuda.is_available() else \"cpu\")"
      ],
      "metadata": {
        "id": "EnfmlLC1_GOu"
      },
      "execution_count": 3,
      "outputs": []
    },
    {
      "cell_type": "code",
      "execution_count": 4,
      "metadata": {
        "id": "MQLLgkzrYviL",
        "colab": {
          "base_uri": "https://localhost:8080/"
        },
        "outputId": "46188e76-d853-49fe-efe1-a63cdaf6e743"
      },
      "outputs": [
        {
          "output_type": "stream",
          "name": "stdout",
          "text": [
            "Mounted at /content/drive\n"
          ]
        }
      ],
      "source": [
        "# Import Drive for easier saving\n",
        "from google.colab import drive\n",
        "drive.mount('/content/drive')"
      ]
    },
    {
      "cell_type": "code",
      "execution_count": 5,
      "metadata": {
        "id": "rCbORzBiYy6f"
      },
      "outputs": [],
      "source": [
        "def download_data(filepath):\n",
        "    if not os.path.exists(os.path.join(filepath, 'mozart_sonatas.tar.gz')):\n",
        "        datasets.utils.download_url('https://github.com/Foundations-of-Applied-Mathematics/Data/raw/master/RNN/mozart_sonatas.tar.gz', filepath, 'mozart_sonatas.tar.gz', None)\n",
        "\n",
        "    print('Extracting {}'.format('mozart_sonatas.tar.gz'))\n",
        "    gzip_path = os.path.join(filepath, 'mozart_sonatas.tar.gz')\n",
        "    with open(gzip_path.replace('.gz', ''), 'wb') as out_f, gzip.GzipFile(gzip_path) as zip_f:\n",
        "        out_f.write(zip_f.read())\n",
        "\n",
        "    print('Untarring {}'.format('mozart_sonatas.tar'))\n",
        "    tar_path = os.path.join(filepath,'mozart_sonatas.tar')\n",
        "    z = tarfile.TarFile(tar_path)\n",
        "    z.extractall(tar_path.replace('.tar', ''))\n"
      ]
    },
    {
      "cell_type": "markdown",
      "metadata": {
        "id": "m7WTL6LYY0uP"
      },
      "source": [
        "# Problem 1 #\n",
        "\n",
        "Download the data.\n",
        "Write a function that accepts the path to the .mid files, parses the files, and returns a list of the 114215 Notes and Chords as strings.\n",
        "There are many element types in MIDI files, so be sure to only look for Notes and Chords.\n",
        "For the Chords, join the pitches of the Notes in the Chords with a . as in (D3.D2).\n",
        "\n",
        "Print the length of your list and the number of unique Notes and Chords.\n"
      ]
    },
    {
      "cell_type": "code",
      "execution_count": 6,
      "metadata": {
        "colab": {
          "base_uri": "https://localhost:8080/"
        },
        "id": "QG1PW5-ins-T",
        "outputId": "8be6ab23-da12-4291-a236-8e80aae4ed8f"
      },
      "outputs": [
        {
          "output_type": "stream",
          "name": "stdout",
          "text": [
            "Downloading https://raw.githubusercontent.com/Foundations-of-Applied-Mathematics/Data/master/RNN/mozart_sonatas.tar.gz to /content/mozart_sonatas.tar.gz\n"
          ]
        },
        {
          "output_type": "stream",
          "name": "stderr",
          "text": [
            "100%|██████████| 430509/430509 [00:00<00:00, 33302329.74it/s]"
          ]
        },
        {
          "output_type": "stream",
          "name": "stdout",
          "text": [
            "Extracting mozart_sonatas.tar.gz\n",
            "Untarring mozart_sonatas.tar\n"
          ]
        },
        {
          "output_type": "stream",
          "name": "stderr",
          "text": [
            "\n"
          ]
        }
      ],
      "source": [
        "download_data(os.getcwd())"
      ]
    },
    {
      "cell_type": "code",
      "execution_count": 7,
      "metadata": {
        "id": "hEpK4GIyZCWg"
      },
      "outputs": [],
      "source": [
        "def order_pitches(pitches):\n",
        "    \"\"\"\n",
        "    Orders a list of MIDI pitches and removes duplicates.\n",
        "\n",
        "    Args:\n",
        "    pitches (list): List of MIDI pitches.\n",
        "\n",
        "    Returns:\n",
        "    list: Sorted list of unique MIDI pitches as strings.\n",
        "    \"\"\"\n",
        "    return sorted(list(set([str(n) for n in pitches])))\n",
        "\n",
        "def mid(path):\n",
        "    \"\"\"\n",
        "    Parses MIDI files in the specified directory.\n",
        "\n",
        "    Args:\n",
        "    path (str): Path to the directory containing MIDI files.\n",
        "\n",
        "    Returns:\n",
        "    list: List of notes and chords extracted from MIDI files as strings.\n",
        "    \"\"\"\n",
        "    notes_chords = []\n",
        "\n",
        "    # Iterate over each file in the directory\n",
        "    for file_name in os.listdir(path):\n",
        "        file_path = os.path.join(path, file_name)\n",
        "        print(\"Processing:\", file_path)\n",
        "\n",
        "        # Parse the MIDI file\n",
        "        midi = converter.parse(file_path)\n",
        "\n",
        "        # Iterate over the notes and chords in the MIDI file\n",
        "        notes_to_parse = instrument.partitionByInstrument(midi).parts.stream().recurse()\n",
        "        for element in notes_to_parse:\n",
        "            if isinstance(element, note.Note):\n",
        "                # If it's a single note, append its pitch\n",
        "                notes_chords.append(str(element.pitch))\n",
        "            elif isinstance(element, chord.Chord):\n",
        "                # If it's a chord, extract its pitches, order them, and append as a joined string\n",
        "                pitches = [str(p) for p in element.pitches]\n",
        "                ordered_pitches = order_pitches(pitches)\n",
        "                notes_chords.append('.'.join(ordered_pitches))\n",
        "\n",
        "    return notes_chords"
      ]
    },
    {
      "cell_type": "code",
      "execution_count": 8,
      "metadata": {
        "colab": {
          "base_uri": "https://localhost:8080/"
        },
        "id": "-i0twkoDns-V",
        "outputId": "294db94c-d905-4567-ae3f-114e62713715"
      },
      "outputs": [
        {
          "output_type": "stream",
          "name": "stdout",
          "text": [
            "Processing: mozart_sonatas/mozart_sonatas/piano_sonata_576.mid\n",
            "Processing: mozart_sonatas/mozart_sonatas/piano_sonata_279.mid\n",
            "Processing: mozart_sonatas/mozart_sonatas/piano_sonata_545.mid\n",
            "Processing: mozart_sonatas/mozart_sonatas/piano_sonata_330.mid\n",
            "Processing: mozart_sonatas/mozart_sonatas/piano_sonata_281.mid\n",
            "Processing: mozart_sonatas/mozart_sonatas/piano_sonata_280.mid\n",
            "Processing: mozart_sonatas/mozart_sonatas/piano_sonata_593.mid\n",
            "Processing: mozart_sonatas/mozart_sonatas/piano_sonata_400.mid\n",
            "Processing: mozart_sonatas/mozart_sonatas/piano_sonata_283.mid\n",
            "Processing: mozart_sonatas/mozart_sonatas/piano_sonata_570.mid\n",
            "Processing: mozart_sonatas/mozart_sonatas/piano_sonata_457.mid\n",
            "Processing: mozart_sonatas/mozart_sonatas/piano_sonata_547.mid\n",
            "Processing: mozart_sonatas/mozart_sonatas/piano_sonata_310.mid\n",
            "Processing: mozart_sonatas/mozart_sonatas/piano_sonata_332.mid\n",
            "Processing: mozart_sonatas/mozart_sonatas/piano_sonata_309.mid\n",
            "Processing: mozart_sonatas/mozart_sonatas/piano_sonata_282.mid\n",
            "Processing: mozart_sonatas/mozart_sonatas/piano_sonata_333.mid\n",
            "Processing: mozart_sonatas/mozart_sonatas/piano_sonata_284.mid\n",
            "Processing: mozart_sonatas/mozart_sonatas/piano_sonata_311.mid\n",
            "Processing: mozart_sonatas/mozart_sonatas/piano_sonata_331.mid\n",
            "114215\n"
          ]
        }
      ],
      "source": [
        "# Grab the data from the file\n",
        "notes_chords = mid(\"mozart_sonatas/mozart_sonatas\")\n",
        "\n",
        "# Save the data to a file\n",
        "print(len(notes_chords))"
      ]
    },
    {
      "cell_type": "code",
      "execution_count": 9,
      "metadata": {
        "id": "fxT9YNXgns-V",
        "outputId": "7999ee36-72a3-4766-d45a-beb3515cee56",
        "colab": {
          "base_uri": "https://localhost:8080/"
        }
      },
      "outputs": [
        {
          "output_type": "stream",
          "name": "stdout",
          "text": [
            "668\n"
          ]
        }
      ],
      "source": [
        "# Print the number of unique notes and chords\n",
        "print(len(set(notes_chords)))"
      ]
    },
    {
      "cell_type": "markdown",
      "metadata": {
        "id": "3votXpqiZCtY"
      },
      "source": [
        "# Problem 2 #\n",
        "\n",
        "Using the list returned in Problem 1, create the training, validation, and testing DataLoaders.\n",
        "Make sure to do all of the following steps:\n",
        "\n",
        "\n",
        "1) Convert the pitches to integers.\n",
        "\n",
        "2) Split the data into Long tensors of length 100.\n",
        "\n",
        "3) Create the labels.\n",
        "\n",
        "4) Randomly split the data into training, validation, and test sets using an 70/15/15 split (use torch.utils.data.random(data,lengths) where lengths=[0.7, 0.15, 0.15]).\n",
        "\n",
        "5) Create the DataLoaders for these sets of data, using batch_size=128 for the training data and batch_size=32 for the validation and test data; also, set shuffle=True for the training data and False for the validation and test data (this is common practice in Deep Learning).\n",
        "\n",
        "\n",
        "Print the length of each DataLoader (they should be 624, 536, and 536, respectively)."
      ]
    },
    {
      "cell_type": "code",
      "execution_count": 10,
      "metadata": {
        "id": "UghZuJfxZuzO"
      },
      "outputs": [],
      "source": [
        "# Create a mapping of unique pitches to integers\n",
        "pitches_integers = {pitch: i for i, pitch in enumerate(set(notes_chords))}\n",
        "\n",
        "# Convert notes_chords to integer representations using the mapping\n",
        "data = [pitches_integers[pitch] for pitch in notes_chords]\n",
        "\n",
        "# Create sequences of 100 consecutive data points along with their labels\n",
        "sequence_labels = []\n",
        "for i in range(len(data) - 100):\n",
        "    sequence = torch.LongTensor(data[i:i+100])  # Create a sequence of length 100\n",
        "    label = data[i+100]  # Get the label for the next data point after the sequence\n",
        "    sequence_labels.append([sequence, label])"
      ]
    },
    {
      "cell_type": "code",
      "execution_count": 11,
      "metadata": {
        "id": "5SC44eTQns-X",
        "outputId": "925d1047-ff9b-46b6-e170-8d313c766fec",
        "colab": {
          "base_uri": "https://localhost:8080/"
        }
      },
      "outputs": [
        {
          "output_type": "stream",
          "name": "stdout",
          "text": [
            "Train Loader Length: 624\n",
            "Validation Loader Length: 535\n",
            "Test Loader Length: 535\n"
          ]
        }
      ],
      "source": [
        "# Set the lengths for train, validation, and test sets\n",
        "# lengths = [79876, 17116, 17116]\n",
        "\n",
        "# Calculate the total length of the dataset\n",
        "total_length = len(sequence_labels)\n",
        "\n",
        "# Calculate the lengths for train, validation, and test sets based on the total length\n",
        "train_length = int(0.7 * total_length)\n",
        "val_length = int(0.15 * total_length)\n",
        "test_length = total_length - train_length - val_length\n",
        "\n",
        "# Perform random split based on the calculated lengths\n",
        "train, val, test = random_split(sequence_labels, lengths=[train_length, val_length, test_length])\n",
        "\n",
        "# Define data loaders\n",
        "train_loader = DataLoader(train, batch_size=128, shuffle=True, drop_last=True)\n",
        "valid_loader = DataLoader(val, batch_size=32, shuffle=False)\n",
        "test_loader = DataLoader(test, batch_size=32, shuffle=False)\n",
        "\n",
        "# Print the lengths of the loaders\n",
        "print(\"Train Loader Length:\", len(train_loader))\n",
        "print(\"Validation Loader Length:\", len(valid_loader))\n",
        "print(\"Test Loader Length:\", len(test_loader))"
      ]
    },
    {
      "cell_type": "markdown",
      "metadata": {
        "id": "mOtS86Rbi0P_"
      },
      "source": [
        "# Problem 3 #\n",
        "\n",
        "Create an LSTM network class.\n",
        "Have a hidden layer size of 256, and include at least $3$ LSTM layers.\n",
        "Also have at least $2$ Linear layers.\n",
        "The last LSTM layer and each of the Linear layers should be followed by a BatchNorm1d layer, for a total of at least $3$ total BatchNorm layers.\n",
        "The final layer should be a Softmax activation.\n",
        "\n",
        "Initialize the model.\n",
        "Define the loss as CrossEntropyLoss, and define the optimizer as RMSprop.\n",
        "\n",
        "Train the model for 30 epochs.\n",
        "Make sure to reinitialize the hidden states (h0, h1) for each training batch.\n",
        "After taking a backwards step during training, scale the gradients using\n",
        "nn.utils.clip_grad_norm_(model.parameters(), 5).\n",
        "This will ensure that the gradients are reasonably sized so that the model can learn.\n",
        "\n",
        "At the end of every epoch, calculate the validation accuracy and mean loss on the validation data.\n",
        "Remember to change the model to eval() mode when running the validation data and then train() when running on the training data.\n",
        "The hidden states (h0, h1) will also need to be reinitialized for each validation batch.\n",
        "\n",
        "Once the training is complete, plot the training and validation losses versus epochs on the same plot.\n",
        "Also, plot the validation accuracy versus epochs.\n",
        "Then, print the final test accuracy by running the finished model on the test data."
      ]
    },
    {
      "cell_type": "code",
      "execution_count": 12,
      "metadata": {
        "id": "jMhH1W7ciwzB"
      },
      "outputs": [],
      "source": [
        "class RNN(nn.Module):\n",
        "    \"\"\"Recurrent Neural Network Class\"\"\"\n",
        "\n",
        "    def __init__(self, n_notes, embedding_dim):\n",
        "        super(RNN, self).__init__()\n",
        "\n",
        "        # Define hyperparameters\n",
        "        self.hidden_size = 128\n",
        "        self.num_layers = 3\n",
        "\n",
        "        # Embedding layer\n",
        "        self.embedding = nn.Embedding(n_notes, embedding_dim)\n",
        "\n",
        "        # LSTM layer\n",
        "        self.lstm = nn.LSTM(embedding_dim, self.hidden_size, self.num_layers, batch_first=True)\n",
        "\n",
        "        # Batch normalization layers\n",
        "        self.batch1 = nn.BatchNorm1d(self.hidden_size)\n",
        "        self.batch2 = nn.BatchNorm1d(1000)\n",
        "        self.batch3 = nn.BatchNorm1d(n_notes)\n",
        "\n",
        "        # Linear layers\n",
        "        self.linear1 = nn.Linear(self.hidden_size, 1000)\n",
        "        self.linear2 = nn.Linear(1000, n_notes)\n",
        "\n",
        "        # Activation functions\n",
        "        self.relu = nn.ReLU()\n",
        "        self.softmax = nn.LogSoftmax(dim=1)\n",
        "\n",
        "        # Loss function\n",
        "        self.loss = nn.CrossEntropyLoss()\n",
        "\n",
        "    def forward(self, x, hidden):\n",
        "        # Embedding layer\n",
        "        embeds = self.embedding(x)\n",
        "\n",
        "        # LSTM layer\n",
        "        lstm_out, hidden = self.lstm(embeds, hidden)\n",
        "        out = self.batch1(lstm_out[:, -1])\n",
        "\n",
        "        # First linear layer\n",
        "        linear_out = self.relu(self.linear1(out))\n",
        "        out = self.batch2(linear_out)\n",
        "\n",
        "        # Second linear layer\n",
        "        linear_out = self.relu(self.linear2(out))\n",
        "        out = self.batch3(linear_out)\n",
        "\n",
        "        # Final softmax layer\n",
        "        x = self.softmax(out)\n",
        "\n",
        "        return x, hidden\n",
        "\n",
        "    def init_hidden(self, batch_size):\n",
        "        # Initialize the hidden layers\n",
        "        weight = next(self.parameters()).data\n",
        "        h0 = weight.new(self.num_layers, batch_size, self.hidden_size).zero_().to(device)\n",
        "        h1 = weight.new(self.num_layers, batch_size, self.hidden_size).zero_().to(device)\n",
        "        return (h0, h1)"
      ]
    },
    {
      "cell_type": "code",
      "execution_count": 15,
      "metadata": {
        "id": "b16eBvd4ns-Z"
      },
      "outputs": [],
      "source": [
        "def train(model, train_loader, valid_loader, n_epochs):\n",
        "    optimizer = optim.RMSprop(model.parameters(), lr=0.001)\n",
        "\n",
        "    # Set up progress bar\n",
        "    loop = tqdm(total=len(train_loader), position=0)\n",
        "\n",
        "    mean_train_losses, mean_valid_losses, mean_valid_accs = [], [], []\n",
        "    for epoch in range(1, n_epochs + 1):\n",
        "        model.train()\n",
        "        (h0, h1) = model.init_hidden(128)\n",
        "\n",
        "        train_losses = []\n",
        "        for x_truth, y_truth in train_loader:\n",
        "            x_truth, y_truth = x_truth.to(device), y_truth.to(device)\n",
        "            optimizer.zero_grad()\n",
        "\n",
        "            output, (h0, h1) = model(x_truth, (h0, h1))\n",
        "            h0 = h0.detach()\n",
        "            h1 = h1.detach()\n",
        "\n",
        "            # Calculate Training Loss\n",
        "            loss = model.loss(output, y_truth)\n",
        "            train_losses.append(loss.item())\n",
        "            loop.set_description(f'Epoch: {epoch}, Loss: {loss.item():.4f}')\n",
        "            loop.update()\n",
        "            loss.backward()\n",
        "            optimizer.step()\n",
        "            nn.utils.clip_grad_norm_(model.parameters(), 5)\n",
        "\n",
        "        # Save model checkpoint\n",
        "        torch.save({\n",
        "            'epoch': epoch,\n",
        "            'model_state_dict': model.state_dict(),\n",
        "            'optimizer_state_dict': optimizer.state_dict(),\n",
        "            'loss': loss\n",
        "        }, 'mozart.ckpt')\n",
        "\n",
        "        # Calculate Validation Loss and Accuracy\n",
        "        validation = 0\n",
        "        valid_losses = []\n",
        "        model.eval()\n",
        "        for x_truth, y_truth in valid_loader:\n",
        "            x_truth, y_truth = x_truth.to(device), y_truth.to(device)\n",
        "            (h0, h1) = model.init_hidden(len(y_truth))\n",
        "            y_hat, _ = model(x_truth, (h0, h1))\n",
        "            loss = model.loss(y_hat, y_truth)\n",
        "            valid_losses.append(loss.item())\n",
        "\n",
        "            validation += sum(torch.eq(y_truth, y_hat.argmax(1))) / len(y_truth)\n",
        "\n",
        "        mean_valid_acc = validation.item() / len(valid_loader)\n",
        "\n",
        "        mean_train_losses.append(np.mean(train_losses))\n",
        "        mean_valid_accs.append(mean_valid_acc)\n",
        "        mean_valid_losses.append(np.mean(valid_losses))\n",
        "\n",
        "        # Early stopping based on validation accuracy\n",
        "        if mean_valid_acc > 0.6:\n",
        "            loop.close()\n",
        "            break\n",
        "\n",
        "    loop.close()\n",
        "\n",
        "    return model, mean_train_losses, mean_valid_losses, mean_valid_accs"
      ]
    },
    {
      "cell_type": "code",
      "execution_count": 16,
      "metadata": {
        "id": "uq-HqDrons-a",
        "outputId": "a0faf00a-829c-4c2f-97c4-1ecb61cd24dc",
        "colab": {
          "base_uri": "https://localhost:8080/"
        }
      },
      "outputs": [
        {
          "output_type": "stream",
          "name": "stderr",
          "text": [
            "Epoch: 30, Loss: 0.7036: : 18720it [06:34, 47.45it/s]\n"
          ]
        }
      ],
      "source": [
        "# Instantiate the RNN model\n",
        "rnn_model = RNN(n_notes=668, embedding_dim=32)\n",
        "\n",
        "# Move the model to the appropriate device (e.g., GPU if available)\n",
        "rnn_model.to(device)\n",
        "\n",
        "# Train the model\n",
        "model, train_loss, valid_loss, valid_accs = train(rnn_model, train_loader, valid_loader, n_epochs=30)"
      ]
    },
    {
      "cell_type": "code",
      "execution_count": 17,
      "metadata": {
        "id": "BnurvBq_ns-a"
      },
      "outputs": [],
      "source": [
        "# Save the model checkpoint\n",
        "torch.save({'epoch': 30,\n",
        "                   'model_state_dict': model.state_dict(),\n",
        "                   'loss': train_loss[-1]}, 'mozart.ckpt')"
      ]
    },
    {
      "cell_type": "code",
      "execution_count": 22,
      "metadata": {
        "id": "poCjJDKgns-b"
      },
      "outputs": [],
      "source": [
        "# Calculate Test Accuracy\n",
        "test_score = 0\n",
        "model.eval()\n",
        "\n",
        "# Load the model checkpoint\n",
        "for x_truth, y_truth in test_loader:\n",
        "    x_truth, y_truth = x_truth.to(device), y_truth.to(device)\n",
        "    (h0, h1) = model.init_hidden(len(y_truth))\n",
        "    y_hat, _ = model(x_truth, (h0, h1))\n",
        "\n",
        "    # Calculate Test Accuracy\n",
        "    test_score += sum(torch.eq(y_truth, y_hat.argmax(1))) / len(y_truth)\n",
        "\n",
        "# Calculate the mean test accuracy\n",
        "mean_test_acc = test_score.item() / len(test_loader)"
      ]
    },
    {
      "cell_type": "code",
      "execution_count": 23,
      "metadata": {
        "id": "x-JhG53zns-b",
        "colab": {
          "base_uri": "https://localhost:8080/"
        },
        "outputId": "674cc6ef-264d-47e3-e4cb-033cc70eb7c8"
      },
      "outputs": [
        {
          "output_type": "stream",
          "name": "stdout",
          "text": [
            "Test Accuracy:  0.4580101227091852\n"
          ]
        }
      ],
      "source": [
        "# Print the mean test accuracy\n",
        "print(\"Test Accuracy: \", mean_test_acc)"
      ]
    },
    {
      "cell_type": "code",
      "execution_count": 24,
      "metadata": {
        "id": "OhA78Vs5ns-b",
        "colab": {
          "base_uri": "https://localhost:8080/",
          "height": 799
        },
        "outputId": "3e10adc2-6df1-4263-f425-f59a2b5db8ca"
      },
      "outputs": [
        {
          "output_type": "display_data",
          "data": {
            "text/plain": [
              "<Figure size 1000x400 with 1 Axes>"
            ],
            "image/png": "[encoded data removed]"
          },
          "metadata": {
            "image/png": {
              "width": 414,
              "height": 392
            }
          }
        },
        {
          "output_type": "display_data",
          "data": {
            "text/plain": [
              "<Figure size 1000x400 with 1 Axes>"
            ],
            "image/png": "[encoded data removed]"
          },
          "metadata": {
            "image/png": {
              "width": 528,
              "height": 390
            }
          }
        }
      ],
      "source": [
        "# Plot it\n",
        "plt.figure(figsize=(10, 4))\n",
        "plt.subplot(121)\n",
        "plt.plot(train_loss, label = \"Training Loss\")\n",
        "plt.plot(valid_loss, label = \"Validation Loss\")\n",
        "plt.xlabel(\"Epoch\")\n",
        "plt.ylabel(\"Loss\")\n",
        "plt.title(\"Training v Validation Loss\")\n",
        "\n",
        "plt.figure(figsize=(10, 4))\n",
        "plt.subplot(122)\n",
        "plt.plot(valid_accs)\n",
        "plt.xlabel(\"Epoch\")\n",
        "plt.ylabel(\"Validation Accuracy\")\n",
        "\n",
        "plt.tight_layout()\n",
        "plt.show()"
      ]
    },
    {
      "cell_type": "markdown",
      "metadata": {
        "id": "sZilPcMCmOED"
      },
      "source": [
        "# Problem 4 #\n",
        "\n",
        "Write a function that randomly chooses a sequence in the test data (which has length 10) and predicts the next $n$ elements, defaulting to 500.\n",
        "Convert the predicted elements to pitches, and return them as a list of length $n$."
      ]
    },
    {
      "cell_type": "code",
      "execution_count": 25,
      "metadata": {
        "id": "3HciNV-gnLOA"
      },
      "outputs": [],
      "source": [
        "def load_model(filename):\n",
        "    \"\"\"Load a saved model to continue training or evaluate.\"\"\"\n",
        "    # Determine the device (GPU if available, otherwise CPU)\n",
        "    device = torch.device(\"cuda:0\" if torch.cuda.is_available() else \"cpu\")\n",
        "\n",
        "    # Instantiate the model with the appropriate parameters\n",
        "    model = Network(n_notes, 32)\n",
        "    model = model.to(device)\n",
        "\n",
        "    # Define loss criterion and optimizer\n",
        "    criterion = nn.CrossEntropyLoss()\n",
        "    optimizer = torch.optim.RMSprop(model.parameters(), lr=0.001)\n",
        "\n",
        "    # Load model checkpoint\n",
        "    checkpoint = torch.load(filename, map_location=torch.device('cpu'))\n",
        "    model.load_state_dict(checkpoint['model_state_dict'])\n",
        "    optimizer.load_state_dict(checkpoint['optimizer_state_dict'])\n",
        "    last_epoch = checkpoint['epoch']\n",
        "    loss = checkpoint['loss']\n",
        "\n",
        "    # Set model to evaluation mode\n",
        "    model.eval()\n",
        "\n",
        "    return model, criterion, optimizer"
      ]
    },
    {
      "cell_type": "code",
      "execution_count": 26,
      "metadata": {
        "id": "-E8NXjN2ns-c"
      },
      "outputs": [],
      "source": [
        "def predict(n):\n",
        "    \"\"\"Generate a sequence of predicted values.\"\"\"\n",
        "    # Move the model to the appropriate device (e.g., GPU if available)\n",
        "    model.to(device)\n",
        "\n",
        "    # Choose a random sequence and its corresponding label from the test set\n",
        "    idx = np.random.randint(0, len(test))\n",
        "    seq, label = test[idx][0], test[idx][1]\n",
        "\n",
        "    # Convert the sequence to a list\n",
        "    seqs = seq.tolist()\n",
        "\n",
        "    # Initialize the hidden states\n",
        "    (h0, h1) = model.init_hidden(1)\n",
        "\n",
        "    # Generate the predicted sequence\n",
        "    for _ in range(n):\n",
        "        seq = seq.unsqueeze(0).to(device)\n",
        "        y_hat, _ = model(seq, (h0, h1))\n",
        "        seqs.append(y_hat.argmax(1).item())\n",
        "        seq = torch.LongTensor(seqs[-100:])\n",
        "\n",
        "    return seqs"
      ]
    },
    {
      "cell_type": "code",
      "execution_count": 27,
      "metadata": {
        "id": "6we6J-ltns-c"
      },
      "outputs": [],
      "source": [
        "# Generate a sequence of predicted values\n",
        "prediction = predict(500)"
      ]
    },
    {
      "cell_type": "code",
      "execution_count": 28,
      "metadata": {
        "id": "3y-XlaV6ns-c",
        "colab": {
          "base_uri": "https://localhost:8080/"
        },
        "outputId": "19dafd25-54a8-4028-bc96-612af391439c"
      },
      "outputs": [
        {
          "output_type": "stream",
          "name": "stdout",
          "text": [
            "['B3', 'D5', 'G3', 'D5', 'B3', 'E5', 'D3', 'D5', 'B3', 'C5', 'G3', 'B4', 'B3', 'B4', 'D3', 'D4', 'G3', 'D4', 'A4.B4', 'D3', 'A4.B4', 'C4', 'A4.B4', 'F#3', 'A4.G4', 'C4', 'G4', 'G3', 'B3', 'G4', 'B3', 'D5', 'G3', 'B3', 'G4', 'E5.F#5', 'D5', 'B3', 'D6', 'G3', 'A3', 'C6', 'F#4', 'A3', 'B5', 'G3', 'C4', 'A5', 'F#4', 'C4', 'G5', 'G3', 'B3', 'G4', 'B3', 'D5', 'G3', 'B3', 'G4', 'E5.F#5', 'D5', 'B3', 'D6', 'G3', 'A3', 'C6', 'F#4', 'A3', 'B5', 'G3', 'C4', 'A5', 'F#4', 'C4', 'G5', 'G3', 'B3', 'G4', 'B3', 'D5', 'G3', 'D6', 'C4', 'F#4', 'A5.B5.C6', 'C4', 'G5', 'G3', 'B3', 'G4', 'B3', 'D5', 'G3', 'D6', 'C4', 'F#4', 'A5.B5.C6', 'C4', 'G5', 'B3.G4', 'D5.F5', 'G5', 'C5.E5', 'G4', 'G5', 'F#4', 'C#6.D6', 'D4', 'A4.D5', 'G5', 'G4', 'G#5', 'D4', 'F5', 'G4', 'D4', 'G4', 'G5', 'G4', 'G5', 'D4', 'G5', 'G4', 'G#5', 'C4', 'G5', 'G4', 'F5', 'C4', 'E-5', 'G4', 'C4', 'G4', 'D5', 'G3', 'G4', 'B3', 'C5', 'D5', 'G4', 'E-5', 'C4', 'G4', 'G5', 'F#5', 'G5', 'E-4', 'G3', 'B-3.E-3.G3', 'G5', 'E-4', 'E-5', 'G4', 'E-4.G4', 'G3', 'G4', 'D5', 'E-4', 'G5', 'G5', 'F#5', 'D4', 'G5', 'G4', 'G3', 'G5', 'G4', 'C4.E-4', 'G3', 'G5', 'G4', 'C4.E-4', 'G3', 'C4.E-4', 'G3', 'F5', 'C4.E-4', 'E-5', 'D5', 'G3', 'C5', 'B4.D5', 'C4', 'G3', 'G4', 'D4.F4', 'G5', 'B4.D5', 'F3', 'G#5', 'B4.D5', 'F3', 'B-5', 'D5.E5', 'A3.D4', 'F3', 'C5.D5', 'B4.D5', 'C4.E4', 'G3', 'D5', 'D4.F4', 'F5', 'C4.E4', 'G3', 'E5', 'E-5', 'C4.E4', 'G3', 'C4.E4', 'G3', 'C4.E4', 'G3', 'C4.E4', 'G3', 'C4.E4', 'G3', 'C4.E4', 'G3', 'C4.E4', 'D5', 'C4.E4', 'G3', 'E-5', 'D5', 'E-3', 'C5', 'D5', 'B-3', 'B-4', 'B-3', 'A4', 'G4', 'B-3', 'G3', 'C5', 'B-3', 'D3', 'G#4', 'B-3', 'G4', 'B-3', 'G3', 'B-3', 'C3', 'G#5', 'G#4', 'B-3', 'G#4', 'B-3', 'G#5', 'G#4', 'B-3', 'G#5', 'G#4', 'B-3', 'B2', 'G#4', 'B-3', 'C3', 'G#4', 'B-4', 'G4', 'C#4', 'F5', 'G4', 'C#4', 'G#5', 'F4', 'D4', 'E-4', 'G5', 'D4', 'F5', 'F4', 'G#5.G5', 'E-4', 'G5', 'D4', 'F5', 'G4', 'E-5', 'C4', 'E-5.F5', 'G#3', 'D5', 'B-3', 'C#5', 'C5', 'E-5', 'A3', 'C4', 'E-4', 'F5.G5', 'B-3', 'E-5', 'E-5.F5', 'E-5.F5', 'A3', 'C4.F4', 'D5', 'C3', 'B-4', 'A4', 'A4', 'G4', 'F4', 'D4', 'F6', 'C#4', 'C3', 'G#5', 'F5', 'C4', 'G#3', 'F#5', 'G5', 'G#5', 'B-5', 'C6', 'C6', 'D4.F4.G#4', 'C4', 'B-5', 'G#5', 'G5', 'F#5', 'G5', 'G#5', 'G5', 'F5', 'E-5', 'D5', 'E-5', 'G4', 'C#5', 'B4', 'C5', 'G#4', 'E-4', 'G4', 'E-4', 'B-4', 'G4', 'C#4', 'E-3', 'G#4', 'F4', 'D4', 'F3', 'G4', 'E-4', 'G#2.G#3', 'B-4', 'G#4.G4', 'A4.B-4', 'B-4.G4', 'G5', 'B-4.G4', 'E-5', 'B-5', 'B-4', 'D2.D3', 'B-5', 'D4.G#4', 'B-1.B-2', 'B-5', 'B-5', 'C6', 'C6', 'B-5', 'A2.A3', 'C6', 'A5', 'B-4', 'B-5', 'B-4', 'G2.G3', 'B-4', 'B-5', 'B-4', 'B-5', 'B-4', 'B-5', 'B-4', 'B-5', 'B-4', 'B-5', 'B-4', 'B-5', 'A5.B-5', 'D4', 'B-3', 'D4', 'D5', 'B-4', 'B-3', 'B-4', 'D4', 'B-3', 'B-4', 'D4', 'B-3', 'B-4', 'D4', 'B-3', 'B-4', 'C5', 'B-4', 'A4', 'B-4', 'G5', 'A4', 'B-4', 'C5', 'B-4', 'D4.F4.G#4', 'C5', 'D5', 'E-5', 'C5', 'F4', 'C5', 'A4', 'B-4', 'A4', 'G4', 'F4', 'A3', 'F3', 'B-4', 'D5', 'C5', 'A4', 'B-4', 'C5', 'B-4', 'G4', 'A4', 'F4', 'E-5', 'E5', 'B-4', 'G4', 'F5', 'E5', 'F5', 'F#5', 'G5', 'G#5', 'A5', 'B-5', 'C6', 'A5', 'F6', 'C6', 'A5', 'F5', 'F5', 'C6', 'F4', 'A3', 'C6', 'E5', 'B-3', 'E-5', 'B-3', 'D5', 'F4', 'C5', 'A3', 'B-4', 'A4', 'C4', 'G4', 'F4', 'E4', 'B-5', 'F4', 'A5', 'G5', 'F5', 'E5', 'D5', 'C5', 'B-4.E4', 'C4', 'B-4', 'A4', 'E-4.F3', 'F3', 'C5', 'A4', 'B-3.D4', 'F3', 'G4', 'E4', 'F4', 'B-4', 'A4', 'B-4', 'C5', 'D5', 'F3', 'B-3', 'D4', 'G4', 'F4', 'E-4', 'G4', 'F4', 'G#4', 'D4', 'C4', 'B-2', 'G#4', 'F4', 'D4', 'C3', 'B-2', 'D3', 'F3', 'B-3', 'B-2', 'D3', 'F3', 'D3', 'B-2', 'D3', 'F3', 'D3', 'B-3', 'A3', 'F4', 'F3', 'F4', 'A3', 'F4', 'G4', 'F4', 'B-4', 'A4', 'D5', 'F4', 'F4', 'F4', 'C5', 'E4', 'D4', 'F4', 'E4', 'G3', 'F4', 'F3', 'G#3', 'B-1.B-2', 'D4', 'G#4.G#5', 'F4', 'G#4', 'F4', 'D3.F3', 'B-4', 'G4', 'E-5', 'G4', 'F5', 'B-3', 'A4', 'B-4', 'D4', 'B-5', 'B-4', 'C4', 'A5', 'A4', 'F4', 'A4', 'B-4', 'D5.E-5', 'C5', 'D5', 'E-5', 'F5', 'G5', 'A5', 'B-5', 'C6', 'D6', 'E-6', 'F6', 'F6', 'F6', 'F5', 'E-6', 'D6', 'C6', 'B-5', 'B-3', 'E-6']\n"
          ]
        }
      ],
      "source": [
        "# Convert the predicted values to pitches\n",
        "key_list = list(pitches_integers.keys())\n",
        "val_list = list(pitches_integers.values())\n",
        "\n",
        "# Convert the predicted values to pitches\n",
        "pitches = [key_list[val_list.index(i)] for i in prediction]\n",
        "print(pitches)"
      ]
    },
    {
      "cell_type": "markdown",
      "metadata": {
        "id": "-syHIeZ4nLhh"
      },
      "source": [
        "# Problem 5 #\n",
        "\n",
        "Convert the predictions from Problem 4 into Music21 Note and Chord objects and save it as 'mozart.mid'. Embed your music file into the notebook."
      ]
    },
    {
      "cell_type": "code",
      "execution_count": 38,
      "metadata": {
        "id": "7oQ4W07mns-c",
        "colab": {
          "base_uri": "https://localhost:8080/",
          "height": 54
        },
        "outputId": "34ece580-fe00-4260-a0f4-ea59b2d65a30"
      },
      "outputs": [
        {
          "output_type": "stream",
          "name": "stderr",
          "text": [
            "\rEpoch: 1, Loss: 4.1618: 100%|██████████| 624/624 [24:01<00:00,  2.31s/it]\n"
          ]
        },
        {
          "output_type": "execute_result",
          "data": {
            "text/plain": [
              "'mozart.mid'"
            ],
            "application/vnd.google.colaboratory.intrinsic+json": {
              "type": "string"
            }
          },
          "metadata": {},
          "execution_count": 38
        }
      ],
      "source": [
        "note_stream = stream.Stream()\n",
        "chord_stream = stream.Stream()\n",
        "\n",
        "# Populate notes and chords lists\n",
        "notes = []\n",
        "chords = []\n",
        "\n",
        "for offset, pitch in enumerate(pitches):\n",
        "    if '.' in pitch:\n",
        "        # Process as a chord\n",
        "        chord_pitches = pitch.split('.')\n",
        "        new_chord = chord.Chord(chord_pitches)\n",
        "        new_chord.storedInstrument = instrument.Piano()\n",
        "        new_chord.offset = offset\n",
        "        chords.append(new_chord)\n",
        "    else:\n",
        "        # Process as a single note\n",
        "        new_note = note.Note(pitch)\n",
        "        new_note.storedInstrument = instrument.Piano()\n",
        "        new_note.offset = offset\n",
        "        notes.append(new_note)\n",
        "\n",
        "# Append notes to note stream\n",
        "note_stream.append(notes)\n",
        "\n",
        "# Append chords to chord stream\n",
        "chord_stream.append(chords)\n",
        "\n",
        "# Combine both streams\n",
        "midi_stream = stream.Stream()\n",
        "midi_stream.append(note_stream)\n",
        "midi_stream.append(chord_stream)\n",
        "\n",
        "# Write the MIDI file\n",
        "midi_stream.write('midi', fp='mozart.mid')"
      ]
    },
    {
      "cell_type": "code",
      "source": [],
      "metadata": {
        "id": "WluQ68n6CrR8"
      },
      "execution_count": null,
      "outputs": []
    }
  ],
  "metadata": {
    "colab": {
      "provenance": [],
      "gpuType": "T4"
    },
    "kernelspec": {
      "display_name": "Python 3",
      "name": "python3"
    },
    "language_info": {
      "codemirror_mode": {
        "name": "ipython",
        "version": 3
      },
      "file_extension": ".py",
      "mimetype": "text/x-python",
      "name": "python",
      "nbconvert_exporter": "python",
      "pygments_lexer": "ipython3",
      "version": "3.10.8"
    },
    "accelerator": "GPU"
  },
  "nbformat": 4,
  "nbformat_minor": 0
}